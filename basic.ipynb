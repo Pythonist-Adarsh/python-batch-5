{
 "cells": [
  {
   "cell_type": "markdown",
   "metadata": {},
   "source": [
    "Language- computer -binary language , human(english) <br/> \n",
    "msg-\"hello, how are you, from where you are\"<br/>\n",
    "interpreter -line by line,python<br/>\n",
    "assembler- \n",
    "compiler-all line execute at once,c,c++,java<br/>\n",
    "<br/>\n",
    "other language \n",
    "syntax\n",
    "difficulty to write\n",
    "{}<br/>\n",
    "# Python -\n",
    "it is a programming language , develop in 1979 released in 1991\n",
    "\n"
   ]
  },
  {
   "cell_type": "markdown",
   "metadata": {},
   "source": [
    "Feature - <br>\n",
    "simple <br>\n",
    "easy to write as normal as english <br>\n",
    "dynamically typed <br>\n",
    "functional programming<br> \n",
    "oops <br>\n",
    "used in AI, ML , Data science and data analytic , full stack , website development<br> \n",
    "open source and free<br>\n",
    "large libraries <br>\n",
    "platform dependent - you cannot need any environment , idle-(google collab,jupyter notebook,anaconda )<br>\n",
    "portablity -all working<br>"
   ]
  },
  {
   "cell_type": "markdown",
   "metadata": {},
   "source": [
    "python develop by guido van rossom "
   ]
  },
  {
   "cell_type": "markdown",
   "metadata": {},
   "source": [
    "variable-it is a container that hold a value<br/>\n",
    "a=10<br/>\n",
    "var=value<br/>\n",
    "b=\"yash\"<br/>\n",
    "'a' in b<br/>\n",
    "var-b,value-yash<br/>\n",
    "c=\"Honesty is the best policy\"<br/>\n",
    "var-c,value-\"Honesty is the best policy\"<br/>\n"
   ]
  },
  {
   "cell_type": "code",
   "execution_count": 3,
   "metadata": {},
   "outputs": [
    {
     "name": "stdout",
     "output_type": "stream",
     "text": [
      "10\n",
      "20\n",
      "20\n"
     ]
    }
   ],
   "source": [
    "a=10\n",
    "print(a)\n",
    "b=20\n",
    "print(b)\n",
    "a=b\n",
    "print(a)"
   ]
  },
  {
   "cell_type": "markdown",
   "metadata": {},
   "source": [
    "# datatype- A type of value hold in a variable or type of value\n",
    "datatype-int()-to hold integer value<br/>\n",
    "str()-to hold the string value<br/>\n",
    "float()-to hold the decimal value<br/>\n",
    "bool()-to hold the boolean value(True/False)<br/>"
   ]
  },
  {
   "cell_type": "code",
   "execution_count": 5,
   "metadata": {},
   "outputs": [
    {
     "name": "stdout",
     "output_type": "stream",
     "text": [
      "23 <class 'int'>\n",
      "Harsh <class 'str'>\n",
      "yash <class 'str'>\n",
      "2.0 <class 'float'>\n",
      "True <class 'bool'>\n"
     ]
    }
   ],
   "source": [
    "k=23\n",
    "o=\"Harsh\"\n",
    "c=\"yash\"\n",
    "d=2.0\n",
    "g=True\n",
    "print(k,type(k))\n",
    "print(o,type(o))\n",
    "print(c,type(c))\n",
    "print(d,type(d))\n",
    "print(g,type(g))"
   ]
  },
  {
   "cell_type": "code",
   "execution_count": 6,
   "metadata": {},
   "outputs": [
    {
     "name": "stdout",
     "output_type": "stream",
     "text": [
      "23 Harsh yash 2.0 True\n"
     ]
    }
   ],
   "source": [
    "print(k,o,c,d,g)"
   ]
  },
  {
   "cell_type": "code",
   "execution_count": 8,
   "metadata": {},
   "outputs": [],
   "source": [
    "adarsh=\"honesty is the best policy\""
   ]
  },
  {
   "cell_type": "code",
   "execution_count": 12,
   "metadata": {},
   "outputs": [
    {
     "name": "stdout",
     "output_type": "stream",
     "text": [
      "55\n"
     ]
    }
   ],
   "source": [
    "a=35\n",
    "c=20\n",
    "print(a+c)"
   ]
  },
  {
   "cell_type": "code",
   "execution_count": 14,
   "metadata": {},
   "outputs": [
    {
     "name": "stdout",
     "output_type": "stream",
     "text": [
      "\n"
     ]
    }
   ],
   "source": [
    "print()\n",
    "input()\n",
    "import numpy as np"
   ]
  },
  {
   "cell_type": "code",
   "execution_count": 16,
   "metadata": {},
   "outputs": [
    {
     "name": "stdout",
     "output_type": "stream",
     "text": [
      "hgdgdggd\n"
     ]
    }
   ],
   "source": [
    "k=\"hgdgdggd\"\n",
    "print(k)"
   ]
  },
  {
   "cell_type": "code",
   "execution_count": 18,
   "metadata": {},
   "outputs": [
    {
     "name": "stdout",
     "output_type": "stream",
     "text": [
      "23\n",
      "Hello\n"
     ]
    }
   ],
   "source": [
    "a23=23\n",
    "print(a23)\n",
    "_adr=\"Hello\"\n",
    "print(_adr)"
   ]
  },
  {
   "cell_type": "code",
   "execution_count": null,
   "metadata": {},
   "outputs": [],
   "source": []
  },
  {
   "cell_type": "code",
   "execution_count": null,
   "metadata": {},
   "outputs": [],
   "source": []
  },
  {
   "cell_type": "code",
   "execution_count": null,
   "metadata": {},
   "outputs": [],
   "source": []
  },
  {
   "cell_type": "code",
   "execution_count": null,
   "metadata": {},
   "outputs": [],
   "source": []
  },
  {
   "cell_type": "code",
   "execution_count": null,
   "metadata": {},
   "outputs": [],
   "source": []
  },
  {
   "cell_type": "code",
   "execution_count": null,
   "metadata": {},
   "outputs": [],
   "source": []
  },
  {
   "cell_type": "code",
   "execution_count": null,
   "metadata": {},
   "outputs": [],
   "source": []
  },
  {
   "cell_type": "code",
   "execution_count": null,
   "metadata": {},
   "outputs": [],
   "source": []
  },
  {
   "cell_type": "code",
   "execution_count": null,
   "metadata": {},
   "outputs": [],
   "source": []
  },
  {
   "cell_type": "code",
   "execution_count": null,
   "metadata": {},
   "outputs": [],
   "source": []
  },
  {
   "cell_type": "code",
   "execution_count": null,
   "metadata": {},
   "outputs": [],
   "source": []
  },
  {
   "cell_type": "code",
   "execution_count": null,
   "metadata": {},
   "outputs": [],
   "source": []
  },
  {
   "cell_type": "code",
   "execution_count": null,
   "metadata": {},
   "outputs": [],
   "source": []
  },
  {
   "cell_type": "code",
   "execution_count": null,
   "metadata": {},
   "outputs": [],
   "source": []
  },
  {
   "cell_type": "code",
   "execution_count": null,
   "metadata": {},
   "outputs": [],
   "source": []
  },
  {
   "cell_type": "code",
   "execution_count": null,
   "metadata": {},
   "outputs": [],
   "source": []
  },
  {
   "cell_type": "code",
   "execution_count": null,
   "metadata": {},
   "outputs": [],
   "source": []
  },
  {
   "cell_type": "code",
   "execution_count": null,
   "metadata": {},
   "outputs": [],
   "source": []
  }
 ],
 "metadata": {
  "kernelspec": {
   "display_name": "Python 3",
   "language": "python",
   "name": "python3"
  },
  "language_info": {
   "codemirror_mode": {
    "name": "ipython",
    "version": 3
   },
   "file_extension": ".py",
   "mimetype": "text/x-python",
   "name": "python",
   "nbconvert_exporter": "python",
   "pygments_lexer": "ipython3",
   "version": "3.10.11"
  }
 },
 "nbformat": 4,
 "nbformat_minor": 2
}
